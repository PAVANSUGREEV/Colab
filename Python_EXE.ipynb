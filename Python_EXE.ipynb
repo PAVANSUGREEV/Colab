{
  "cells": [
    {
      "cell_type": "markdown",
      "metadata": {
        "id": "view-in-github",
        "colab_type": "text"
      },
      "source": [
        "<a href=\"https://colab.research.google.com/github/PAVANSUGREEV/Colab/blob/main/Python_EXE.ipynb\" target=\"_parent\"><img src=\"https://colab.research.google.com/assets/colab-badge.svg\" alt=\"Open In Colab\"/></a>"
      ]
    },
    {
      "cell_type": "markdown",
      "id": "0caabd3d",
      "metadata": {
        "id": "0caabd3d"
      },
      "source": [
        "#####  Average of three numbers\n",
        "\n"
      ]
    },
    {
      "cell_type": "code",
      "execution_count": null,
      "id": "cfc98fcc",
      "metadata": {
        "id": "cfc98fcc",
        "outputId": "3129752f-6aaa-48e0-d4d1-dae6a94ce7fc"
      },
      "outputs": [
        {
          "name": "stdout",
          "output_type": "stream",
          "text": [
            "<class 'float'>\n"
          ]
        }
      ],
      "source": [
        "x=200\n",
        "y=890\n",
        "z=90876\n",
        "avg=(x+y+z)/3\n",
        "print(type(avg))\n",
        "\n"
      ]
    },
    {
      "cell_type": "markdown",
      "id": "a4412074",
      "metadata": {
        "id": "a4412074"
      },
      "source": [
        "#### Multiplication"
      ]
    },
    {
      "cell_type": "code",
      "execution_count": null,
      "id": "a328f66d",
      "metadata": {
        "id": "a328f66d",
        "outputId": "cf7b4ab8-4e1c-4714-c1a5-64a0e341e0e0"
      },
      "outputs": [
        {
          "name": "stdout",
          "output_type": "stream",
          "text": [
            "1237940039285380274899124224000000000000000000000000000000000000000000000000000000000000000000000000000000000000000000\n"
          ]
        }
      ],
      "source": [
        "s=20\n",
        "e=90\n",
        "print(s**e)\n"
      ]
    },
    {
      "cell_type": "markdown",
      "id": "dad3cae8",
      "metadata": {
        "id": "dad3cae8"
      },
      "source": [
        "### Dynamic"
      ]
    },
    {
      "cell_type": "code",
      "execution_count": null,
      "id": "ba4ece5d",
      "metadata": {
        "id": "ba4ece5d",
        "outputId": "13ca1bd6-5ee7-4988-acc1-1c5096278fce"
      },
      "outputs": [
        {
          "name": "stdout",
          "output_type": "stream",
          "text": [
            "5\n",
            "96865745213\n",
            "48432872609.0\n"
          ]
        }
      ],
      "source": [
        "x=int(input())\n",
        "y=int(input())\n",
        "print((x+y)/2)"
      ]
    },
    {
      "cell_type": "markdown",
      "id": "44e0a816",
      "metadata": {
        "id": "44e0a816"
      },
      "source": [
        "### Max \n"
      ]
    },
    {
      "cell_type": "code",
      "execution_count": null,
      "id": "7822c036",
      "metadata": {
        "id": "7822c036",
        "outputId": "256c5fc2-dac0-48bc-e394-d4ca12dfbe46"
      },
      "outputs": [
        {
          "name": "stdout",
          "output_type": "stream",
          "text": [
            "52\n",
            "3\n",
            "3\n",
            "Max is 52\n"
          ]
        }
      ],
      "source": [
        "x=int(input())\n",
        "y=int(input())\n",
        "z=int(input())\n",
        "if(x>y and x>y):\n",
        "    print('Max is',x)\n",
        "    if(y>z and y>x):\n",
        "       print('Max is',y)\n",
        "       if(z>x and z>y):\n",
        "           print('Max is',z)"
      ]
    },
    {
      "cell_type": "markdown",
      "id": "86771c2a",
      "metadata": {
        "id": "86771c2a"
      },
      "source": [
        "### Conversions"
      ]
    },
    {
      "cell_type": "code",
      "execution_count": null,
      "id": "475dd1a5",
      "metadata": {
        "id": "475dd1a5",
        "outputId": "465f8970-bbe7-4f14-e5e6-9ee9b18aab89"
      },
      "outputs": [
        {
          "name": "stdout",
          "output_type": "stream",
          "text": [
            "253\n",
            "253.0\n",
            "36\n",
            "36\n",
            "4556\n"
          ]
        }
      ],
      "source": [
        "#int to float\n",
        "x=input()\n",
        "m=float(x)\n",
        "print(m)\n",
        "\n",
        "\n",
        "#float to int\n",
        "c=input()\n",
        "v=int(c)\n",
        "print(v)\n",
        "\n",
        "#int to string\n",
        "h=4556\n",
        "k=str(h)\n",
        "print(k)"
      ]
    },
    {
      "cell_type": "markdown",
      "id": "b4a5d281",
      "metadata": {
        "id": "b4a5d281"
      },
      "source": [
        "### Boolean"
      ]
    },
    {
      "cell_type": "code",
      "execution_count": null,
      "id": "e45c68f8",
      "metadata": {
        "scrolled": true,
        "id": "e45c68f8",
        "outputId": "3785b828-9399-4e80-cdec-68ed5c965f12"
      },
      "outputs": [
        {
          "name": "stdout",
          "output_type": "stream",
          "text": [
            "False\n"
          ]
        }
      ],
      "source": [
        "u=10\n",
        "h=90\n",
        "print(u>h)"
      ]
    },
    {
      "cell_type": "markdown",
      "id": "0871d499",
      "metadata": {
        "id": "0871d499"
      },
      "source": [
        "### Complex"
      ]
    },
    {
      "cell_type": "code",
      "execution_count": null,
      "id": "7d8776e0",
      "metadata": {
        "id": "7d8776e0",
        "outputId": "856e6e79-e653-4b55-d7f3-aa9cbd72c7f1"
      },
      "outputs": [
        {
          "name": "stdout",
          "output_type": "stream",
          "text": [
            "(8+0j)\n",
            "<class 'complex'>\n"
          ]
        }
      ],
      "source": [
        "\n",
        "n=8\n",
        "m=complex(n)\n",
        "print(m)\n",
        "print(type(m))\n"
      ]
    },
    {
      "cell_type": "markdown",
      "id": "3855d1db",
      "metadata": {
        "id": "3855d1db"
      },
      "source": [
        "### BMI"
      ]
    },
    {
      "cell_type": "code",
      "execution_count": null,
      "id": "5a625274",
      "metadata": {
        "id": "5a625274",
        "outputId": "4b238687-a400-4bc0-ea45-1d626b260ba9"
      },
      "outputs": [
        {
          "name": "stdout",
          "output_type": "stream",
          "text": [
            "181\n",
            "25\n",
            "7.63102469399591\n"
          ]
        }
      ],
      "source": [
        "height=int(input())\n",
        "weight=int(input())\n",
        "BMI=float(weight/(height/100)**2)\n",
        "print(BMI)"
      ]
    },
    {
      "cell_type": "markdown",
      "id": "375e580d",
      "metadata": {
        "id": "375e580d"
      },
      "source": [
        "### Triangle\n"
      ]
    },
    {
      "cell_type": "markdown",
      "id": "2495bcd9",
      "metadata": {
        "id": "2495bcd9"
      },
      "source": [
        "x=int(input())\n",
        "y=int(input())\n",
        "z=int(input())\n",
        "if x==y and y==z and z==x:\n",
        "    print(\"Equilateral\")\n",
        "elif y!=x and y!=z and z!=x:\n",
        "    print(\"scalene\")\n",
        "elif y!=x or y!=z or x!=z:\n",
        "    print(\"Iscocless\")\n"
      ]
    },
    {
      "cell_type": "markdown",
      "id": "b200963b",
      "metadata": {
        "id": "b200963b"
      },
      "source": [
        "###  Leap year or not"
      ]
    },
    {
      "cell_type": "code",
      "execution_count": null,
      "id": "3d6169ee",
      "metadata": {
        "id": "3d6169ee",
        "outputId": "1788279b-a56c-4134-a1a9-48440b26c15e"
      },
      "outputs": [
        {
          "name": "stdout",
          "output_type": "stream",
          "text": [
            "2004\n",
            "Leap YEAR\n"
          ]
        }
      ],
      "source": [
        "x=int(input())\n",
        "if(x%4==0 and x%100):\n",
        "    print(\"Leap YEAR\")\n",
        "else:\n",
        "    print(\"Not A leap year\")"
      ]
    },
    {
      "cell_type": "markdown",
      "id": "a319076b",
      "metadata": {
        "id": "a319076b"
      },
      "source": [
        "### Minimum among three\n"
      ]
    },
    {
      "cell_type": "code",
      "execution_count": null,
      "id": "bc588e2b",
      "metadata": {
        "id": "bc588e2b",
        "outputId": "461e96b2-47b4-409f-9c85-a59333d8b34e"
      },
      "outputs": [
        {
          "name": "stdout",
          "output_type": "stream",
          "text": [
            "25\n",
            "36\n",
            "1\n",
            "MIn is 1\n"
          ]
        }
      ],
      "source": [
        "x=int(input())\n",
        "y=int(input())\n",
        "z=int(input())\n",
        "if x<y and x<z:\n",
        "    print(\"Min is\",x)\n",
        "elif y<x and y<z:\n",
        "        print(\"Min is\",y)\n",
        "else:\n",
        "            print(\"MIn is\",z)"
      ]
    },
    {
      "cell_type": "markdown",
      "id": "96fb8960",
      "metadata": {
        "id": "96fb8960"
      },
      "source": [
        "### Divisible by 5 or 11"
      ]
    },
    {
      "cell_type": "code",
      "execution_count": null,
      "id": "7483c81b",
      "metadata": {
        "id": "7483c81b",
        "outputId": "de56f413-6aea-4a8f-fc0f-e2a0d2c892fa"
      },
      "outputs": [
        {
          "name": "stdout",
          "output_type": "stream",
          "text": [
            "22\n",
            "Its DIvisible by 11\n"
          ]
        }
      ],
      "source": [
        "x=int(input())\n",
        "if x%5==0:\n",
        "    print(\"Its Divisible by 5\")\n",
        "else:\n",
        "    print(\"Its DIvisible by 11\")"
      ]
    },
    {
      "cell_type": "markdown",
      "id": "46fd71e9",
      "metadata": {
        "id": "46fd71e9"
      },
      "source": [
        "### + - or 0"
      ]
    },
    {
      "cell_type": "code",
      "execution_count": null,
      "id": "f1d32a79",
      "metadata": {
        "id": "f1d32a79",
        "outputId": "98cc5345-639d-4214-9aea-2208fab351db"
      },
      "outputs": [
        {
          "name": "stdout",
          "output_type": "stream",
          "text": [
            "-1253693000\n",
            "Number is negative\n"
          ]
        }
      ],
      "source": [
        "x=int(input())\n",
        "if x>0:\n",
        "    print(\"Number is positive\")\n",
        "elif x<0:\n",
        "    print(\"Number is negative\")\n",
        "else:\n",
        "    print(\"Its a ZERO\")"
      ]
    },
    {
      "cell_type": "markdown",
      "id": "18118adf",
      "metadata": {
        "id": "18118adf"
      },
      "source": [
        "### ROots of Quadratic Equation"
      ]
    },
    {
      "cell_type": "code",
      "execution_count": null,
      "id": "596c4ee2",
      "metadata": {
        "id": "596c4ee2",
        "outputId": "1c5a7788-c106-471d-d4b8-f97f099125d3"
      },
      "outputs": [
        {
          "name": "stdout",
          "output_type": "stream",
          "text": [
            "Enter x^2 Coefficient:5\n",
            "ENter x Coefficient:12\n",
            "Enter Constant3\n",
            "Real and distint roots \n",
            "Roots are  -0.283484861008832 -2.1165151389911676\n"
          ]
        }
      ],
      "source": [
        "x=int(input(\"Enter x^2 Coefficient:\"))\n",
        "y=int(input(\"ENter x Coefficient:\"))\n",
        "z=int(input(\"Enter Constant\"))\n",
        "discri=y*y-4*x*z\n",
        "if discri>0:\n",
        "    root1=(-y+((y*y-4*x*z)**(1/2)))/(2*x)\n",
        "    root2=(-y-((y*y-4*x*z)**(1/2)))/(2*x)\n",
        "    print(\"Real and distint roots \")\n",
        "    print(\"Roots are \",root1  , root2)\n",
        "elif discri==0:\n",
        "    root1=root2=(-y/(2*x))\n",
        "    print(\"ROots are real and equal\", root1,  root2 )\n",
        "else:\n",
        "    realPart = -y / (2 * x)\n",
        "    imagPart = ((-discri)**(1/2)) / (2 * x)\n",
        "    print(\"ROots are imaginary\", realPart, imagPart)\n",
        "    \n",
        "    "
      ]
    },
    {
      "cell_type": "code",
      "source": [
        ""
      ],
      "metadata": {
        "id": "_5pqxyWA8Cj6"
      },
      "id": "_5pqxyWA8Cj6",
      "execution_count": null,
      "outputs": []
    }
  ],
  "metadata": {
    "kernelspec": {
      "display_name": "Python 3 (ipykernel)",
      "language": "python",
      "name": "python3"
    },
    "language_info": {
      "codemirror_mode": {
        "name": "ipython",
        "version": 3
      },
      "file_extension": ".py",
      "mimetype": "text/x-python",
      "name": "python",
      "nbconvert_exporter": "python",
      "pygments_lexer": "ipython3",
      "version": "3.9.7"
    },
    "colab": {
      "name": "Python  EXE.ipynb",
      "provenance": [],
      "collapsed_sections": [],
      "include_colab_link": true
    }
  },
  "nbformat": 4,
  "nbformat_minor": 5
}