{
  "cells": [
    {
      "cell_type": "markdown",
      "metadata": {
        "id": "view-in-github",
        "colab_type": "text"
      },
      "source": [
        "<a href=\"https://colab.research.google.com/github/PAVANSUGREEV/Colab/blob/main/Python_EXE.ipynb\" target=\"_parent\"><img src=\"https://colab.research.google.com/assets/colab-badge.svg\" alt=\"Open In Colab\"/></a>"
      ]
    },
    {
      "cell_type": "markdown",
      "id": "0caabd3d",
      "metadata": {
        "id": "0caabd3d"
      },
      "source": [
        "#####  Average of three numbers\n",
        "\n"
      ]
    },
    {
      "cell_type": "code",
      "execution_count": null,
      "id": "cfc98fcc",
      "metadata": {
        "id": "cfc98fcc",
        "outputId": "690b92f8-2499-4646-b5f3-7d75aa9f9fd4"
      },
      "outputs": [
        {
          "name": "stdout",
          "output_type": "stream",
          "text": [
            "<class 'float'>\n"
          ]
        }
      ],
      "source": [
        "x=200\n",
        "y=890\n",
        "z=90876\n",
        "avg=(x+y+z)/3\n",
        "print(type(avg))\n",
        "\n"
      ]
    },
    {
      "cell_type": "markdown",
      "id": "a4412074",
      "metadata": {
        "id": "a4412074"
      },
      "source": [
        "#### Multiplication"
      ]
    },
    {
      "cell_type": "code",
      "execution_count": null,
      "id": "a328f66d",
      "metadata": {
        "id": "a328f66d",
        "outputId": "5bf4aaf2-f06a-41d8-85c4-5ad8a29cd95c"
      },
      "outputs": [
        {
          "name": "stdout",
          "output_type": "stream",
          "text": [
            "1237940039285380274899124224000000000000000000000000000000000000000000000000000000000000000000000000000000000000000000\n"
          ]
        }
      ],
      "source": [
        "s=20\n",
        "e=90\n",
        "print(s**e)\n"
      ]
    },
    {
      "cell_type": "markdown",
      "id": "dad3cae8",
      "metadata": {
        "id": "dad3cae8"
      },
      "source": [
        "### Dynamic"
      ]
    },
    {
      "cell_type": "code",
      "execution_count": null,
      "id": "ba4ece5d",
      "metadata": {
        "id": "ba4ece5d",
        "outputId": "0de0d91d-b6d8-4cc4-cb2e-33596fdb8250"
      },
      "outputs": [
        {
          "name": "stdout",
          "output_type": "stream",
          "text": [
            "5\n",
            "96865745213\n",
            "48432872609.0\n"
          ]
        }
      ],
      "source": [
        "x=int(input())\n",
        "y=int(input())\n",
        "print((x+y)/2)"
      ]
    },
    {
      "cell_type": "markdown",
      "id": "44e0a816",
      "metadata": {
        "id": "44e0a816"
      },
      "source": [
        "### Max \n"
      ]
    },
    {
      "cell_type": "code",
      "execution_count": null,
      "id": "7822c036",
      "metadata": {
        "id": "7822c036",
        "outputId": "93f62558-98ef-4ec9-8d55-b7abcb295f97"
      },
      "outputs": [
        {
          "name": "stdout",
          "output_type": "stream",
          "text": [
            "52\n",
            "3\n",
            "3\n",
            "Max is 52\n"
          ]
        }
      ],
      "source": [
        "x=int(input())\n",
        "y=int(input())\n",
        "z=int(input())\n",
        "if(x>y and x>y):\n",
        "    print('Max is',x)\n",
        "    if(y>z and y>x):\n",
        "       print('Max is',y)\n",
        "       if(z>x and z>y):\n",
        "           print('Max is',z)"
      ]
    },
    {
      "cell_type": "markdown",
      "id": "86771c2a",
      "metadata": {
        "id": "86771c2a"
      },
      "source": [
        "### Conversions"
      ]
    },
    {
      "cell_type": "code",
      "execution_count": null,
      "id": "475dd1a5",
      "metadata": {
        "id": "475dd1a5",
        "outputId": "34986a8b-393a-4b8e-c300-262ae3b8b455"
      },
      "outputs": [
        {
          "name": "stdout",
          "output_type": "stream",
          "text": [
            "253\n",
            "253.0\n",
            "36\n",
            "36\n",
            "4556\n"
          ]
        }
      ],
      "source": [
        "#int to float\n",
        "x=input()\n",
        "m=float(x)\n",
        "print(m)\n",
        "\n",
        "\n",
        "#float to int\n",
        "c=input()\n",
        "v=int(c)\n",
        "print(v)\n",
        "\n",
        "#int to string\n",
        "h=4556\n",
        "k=str(h)\n",
        "print(k)"
      ]
    },
    {
      "cell_type": "markdown",
      "id": "b4a5d281",
      "metadata": {
        "id": "b4a5d281"
      },
      "source": [
        "### Boolean"
      ]
    },
    {
      "cell_type": "code",
      "execution_count": null,
      "id": "e45c68f8",
      "metadata": {
        "id": "e45c68f8",
        "outputId": "b2d76b1d-10c9-4aad-f72d-4341962e169b"
      },
      "outputs": [
        {
          "name": "stdout",
          "output_type": "stream",
          "text": [
            "False\n"
          ]
        }
      ],
      "source": [
        "u=10\n",
        "h=90\n",
        "print(u>h)"
      ]
    },
    {
      "cell_type": "markdown",
      "id": "0871d499",
      "metadata": {
        "id": "0871d499"
      },
      "source": [
        "### Complex"
      ]
    },
    {
      "cell_type": "code",
      "execution_count": null,
      "id": "7d8776e0",
      "metadata": {
        "id": "7d8776e0",
        "outputId": "ca18d3f2-2a1c-4311-cda0-8e1c1a79c25a"
      },
      "outputs": [
        {
          "name": "stdout",
          "output_type": "stream",
          "text": [
            "(8+0j)\n",
            "<class 'complex'>\n"
          ]
        }
      ],
      "source": [
        "\n",
        "n=8\n",
        "m=complex(n)\n",
        "print(m)\n",
        "print(type(m))\n"
      ]
    },
    {
      "cell_type": "code",
      "execution_count": null,
      "id": "ef39dcc1",
      "metadata": {
        "id": "ef39dcc1"
      },
      "outputs": [],
      "source": [
        ""
      ]
    }
  ],
  "metadata": {
    "kernelspec": {
      "display_name": "Python 3 (ipykernel)",
      "language": "python",
      "name": "python3"
    },
    "language_info": {
      "codemirror_mode": {
        "name": "ipython",
        "version": 3
      },
      "file_extension": ".py",
      "mimetype": "text/x-python",
      "name": "python",
      "nbconvert_exporter": "python",
      "pygments_lexer": "ipython3",
      "version": "3.9.7"
    },
    "colab": {
      "name": "Python  EXE.ipynb",
      "provenance": [],
      "include_colab_link": true
    }
  },
  "nbformat": 4,
  "nbformat_minor": 5
}